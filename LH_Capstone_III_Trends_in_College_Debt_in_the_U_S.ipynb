{
  "nbformat": 4,
  "nbformat_minor": 0,
  "metadata": {
    "colab": {
      "provenance": [],
      "authorship_tag": "ABX9TyPQ15zXMK8LIdWj5W1chnqA",
      "include_colab_link": true
    },
    "kernelspec": {
      "name": "python3",
      "display_name": "Python 3"
    },
    "language_info": {
      "name": "python"
    }
  },
  "cells": [
    {
      "cell_type": "markdown",
      "metadata": {
        "id": "view-in-github",
        "colab_type": "text"
      },
      "source": [
        "<a href=\"https://colab.research.google.com/github/Gatheroxign34/DataToolbox-An-Educator-s-Take/blob/main/LH_Capstone_III_Trends_in_College_Debt_in_the_U_S.ipynb\" target=\"_parent\"><img src=\"https://colab.research.google.com/assets/colab-badge.svg\" alt=\"Open In Colab\"/></a>"
      ]
    },
    {
      "cell_type": "markdown",
      "source": [
        "The following are packages needed to perform all the necessary tests and create the visuals needed to inform our analysis to answer the following first hypotheses:\n",
        "\n",
        "Null: There is no relationship between grad debt and grad median earnings.\n",
        "\n",
        "Alternate: There is a relationship between grad debt and grad median earnings. "
      ],
      "metadata": {
        "id": "X6Gff-TkTmjP"
      }
    },
    {
      "cell_type": "code",
      "execution_count": null,
      "metadata": {
        "id": "h4zC6Yt4Iycd"
      },
      "outputs": [],
      "source": [
        "import pandas as pd\n",
        "import numpy as np\n",
        "import matplotlib.pyplot as plt \n",
        "import seaborn as sns \n",
        "from scipy.stats import ttest_ind\n",
        "from scipy.stats import ttest_1samp\n",
        "from scipy.stats import ttest_ind_from_stats\n",
        "from scipy import stats"
      ]
    },
    {
      "cell_type": "code",
      "source": [
        "college_debt_1 = pd.read_csv('Most_Recent_Cohorts_Scorecard_Elements_Cleaned .csv')"
      ],
      "metadata": {
        "id": "PI4slkqoJLrz"
      },
      "execution_count": null,
      "outputs": []
    },
    {
      "cell_type": "code",
      "source": [
        "print(college_debt_1.head())"
      ],
      "metadata": {
        "colab": {
          "base_uri": "https://localhost:8080/"
        },
        "id": "0BCtDD8wTs-K",
        "outputId": "cb9a21b5-5680-4492-8ca1-6336bfd9b0a8"
      },
      "execution_count": null,
      "outputs": [
        {
          "output_type": "stream",
          "name": "stdout",
          "text": [
            "   index  UNITID    OPEID  OPEID6                               INSTNM  \\\n",
            "0      0  100654   100200    1002             Alabama A & M University   \n",
            "1      1  100663   105200    1052  University of Alabama at Birmingham   \n",
            "2      2  100690  2503400   25034                   Amridge University   \n",
            "3      3  100706   105500    1055  University of Alabama in Huntsville   \n",
            "4      4  100724   100500    1005             Alabama State University   \n",
            "\n",
            "         CITY STABBR   UGDS  UGDS_WHITE  UGDS_BLACK  ...  UGDS_AIAN  \\\n",
            "0      Normal     AL   4206      0.0333      0.9353  ...     0.0024   \n",
            "1  Birmingham     AL  11383      0.5922      0.2600  ...     0.0022   \n",
            "2  Montgomery     AL    291      0.2990      0.4192  ...     0.0000   \n",
            "3  Huntsville     AL   5451      0.6988      0.1255  ...     0.0143   \n",
            "4  Montgomery     AL   4811      0.0158      0.9208  ...     0.0010   \n",
            "\n",
            "   UGDS_NHPI  UGDS_2MOR  UGDS_NRA  UGDS_UNKN  PCTFLOAN  UG25ABV  \\\n",
            "0     0.0019     0.0000    0.0059     0.0138    0.8284   0.1049   \n",
            "1     0.0007     0.0368    0.0179     0.0100    0.5214   0.2422   \n",
            "2     0.0000     0.0000    0.0000     0.2715    0.7795   0.8540   \n",
            "3     0.0002     0.0172    0.0332     0.0350    0.4596   0.2640   \n",
            "4     0.0006     0.0098    0.0243     0.0137    0.7554   0.1270   \n",
            "\n",
            "   MD_EARN_WNE_P10  GT_25K_P6  GRAD_DEBT_MDN_SUPP  \n",
            "0            30300      0.426             33888.0  \n",
            "1            39700      0.665             21941.5  \n",
            "2            40100      0.676             23370.0  \n",
            "3            45500      0.668             24097.0  \n",
            "4            26600      0.360             33118.5  \n",
            "\n",
            "[5 rows x 22 columns]\n"
          ]
        }
      ]
    },
    {
      "cell_type": "markdown",
      "source": [
        "I created the following region series to see if there is a strong pattern of correlation in my scatterplot between graduate college debt and graduate median earnings by region."
      ],
      "metadata": {
        "id": "c-VoMkJoUv43"
      }
    },
    {
      "cell_type": "code",
      "source": [
        "college_debt_1['Southwest'] = college_debt_1['STABBR'].isin(['CA', 'AZ', 'NV', 'CO', 'UT', 'TX', 'OK', 'NM'])\n",
        "\n",
        "college_debt_1['Southwest']\n",
        "\n",
        "college_debt_1['Northeast'] = college_debt_1['STABBR'].isin(['CT', 'MA', 'NY', 'NJ', 'VT', 'ME', 'RI', 'NH', 'PA'])\n",
        "\n",
        "college_debt_1['Northeast']\n",
        "\n",
        "college_debt_1['Southeast'] = college_debt_1['STABBR'].isin(['GA', 'AL', 'AR', 'MS', 'FL', 'NC', 'SC', 'TN', 'LA', 'KY', 'WV', 'VI', 'MD'])\n",
        "\n",
        "college_debt_1['Southeast']\n",
        "\n",
        "college_debt_1['Northwest'] = college_debt_1['STABBR'].isin(['OR', 'WA', 'ID', 'WY', 'MT'])\n",
        "\n",
        "college_debt_1['Northwest']\n",
        "\n",
        "college_debt_1['Northcentral'] = college_debt_1['STABBR'].isin(['IL', 'IN', 'OH', 'IA', 'ND', 'SD', 'MI', 'KS', 'MN', 'MO', 'NE', 'WI'])\n",
        "\n",
        "college_debt_1['Northcentral']\n",
        "\n",
        "college_debt_1['Hawaii'] = college_debt_1['STABBR'].isin(['HI'])\n",
        "\n",
        "college_debt_1['Hawaii']\n",
        "\n",
        "college_debt_1['Alaska'] = college_debt_1['STABBR'].isin(['AK'])\n",
        "\n",
        "college_debt_1['Alaska']"
      ],
      "metadata": {
        "colab": {
          "base_uri": "https://localhost:8080/"
        },
        "id": "-YLG3uWgTxwz",
        "outputId": "a098b95e-2121-4498-80f4-022e3a67c86f"
      },
      "execution_count": null,
      "outputs": [
        {
          "output_type": "execute_result",
          "data": {
            "text/plain": [
              "0       False\n",
              "1       False\n",
              "2       False\n",
              "3       False\n",
              "4       False\n",
              "        ...  \n",
              "4707    False\n",
              "4708    False\n",
              "4709    False\n",
              "4710    False\n",
              "4711    False\n",
              "Name: Alaska, Length: 4712, dtype: bool"
            ]
          },
          "metadata": {},
          "execution_count": 80
        }
      ]
    },
    {
      "cell_type": "code",
      "source": [
        "sns.relplot(x='MD_EARN_WNE_P10', y='GRAD_DEBT_MDN_SUPP', data= college_debt_1,\n",
        "            hue=college_debt_1[['Southwest', 'Southeast']].apply(tuple, axis=1))\n",
        "\n",
        "xlab = 'Median Earnings'\n",
        "ylab = 'Grad Debt'\n",
        "title = 'Graduate Debt Versus Median Earnings by Region'\n",
        "\n",
        "plt.xlabel('Median Earnings')\n",
        "plt.ylabel('Grad Debt')\n",
        "\n",
        "plt.title('Correlation Between Graduate Debt and Median Earnings by Region')\n",
        "\n",
        "\n",
        "sns.despine()"
      ],
      "metadata": {
        "colab": {
          "base_uri": "https://localhost:8080/",
          "height": 385
        },
        "id": "uVa1rEp-eUW1",
        "outputId": "510ab87e-61bf-49b0-c725-97afb73f8002"
      },
      "execution_count": null,
      "outputs": [
        {
          "output_type": "display_data",
          "data": {
            "text/plain": [
              "<Figure size 460.5x360 with 1 Axes>"
            ],
            "image/png": "[encoded data removed]"
          },
          "metadata": {
            "needs_background": "light"
          }
        }
      ]
    },
    {
      "cell_type": "code",
      "source": [
        "stats.pearsonr(college_debt_1['MD_EARN_WNE_P10'], college_debt_1['GRAD_DEBT_MDN_SUPP'])"
      ],
      "metadata": {
        "colab": {
          "base_uri": "https://localhost:8080/"
        },
        "id": "F4lKlzC2o1w3",
        "outputId": "e5390f3d-1c1b-449a-a2f6-2eb3f6936c35"
      },
      "execution_count": null,
      "outputs": [
        {
          "output_type": "execute_result",
          "data": {
            "text/plain": [
              "(0.46836222703625874, 1.2941136663084153e-255)"
            ]
          },
          "metadata": {},
          "execution_count": 32
        }
      ]
    },
    {
      "cell_type": "markdown",
      "source": [
        "I would reject the null hypothesis that there in no relationship between  grad debt and median earnings. I would accept the alternate hypothesis because there is a moderate correlation between median earnings and grad debt. The scatterplot shows this moderate correlation as well as the correlation coefficient .468.\n",
        "\n",
        "The southeast shown in blue has less median earnings and more debt that the southwest in green. If you drew a vertical line starting at 20,000 median earnings moving up the y axis your line would intersect with many blue points.   "
      ],
      "metadata": {
        "id": "aRpEH-LhyIeB"
      }
    },
    {
      "cell_type": "markdown",
      "source": [
        "Part II\n",
        "\n",
        "\n",
        "\n",
        "Null: There is no significant difference in average college student debt by ethnicity for large \n",
        "universities.\n",
        "\n",
        "Alternate: There is a significant difference in average college student debt by ethnicity for large \n",
        "universities. \n",
        "\n",
        "The following code creates ethnic groups from the data by multiplying the total undergraduate population by the proportion in each university or college. \n"
      ],
      "metadata": {
        "id": "4T8VLEq9K0J4"
      }
    },
    {
      "cell_type": "code",
      "source": [
        "college_debt_1['Num_White_UGDS'] = college_debt_1['UGDS_WHITE'] * college_debt_1['UGDS']\n",
        "college_debt_1['Num_Black_UGDS'] = college_debt_1['UGDS_BLACK'] * college_debt_1['UGDS']\n",
        "college_debt_1['Num_Hispanic_UGDS'] = college_debt_1['UGDS_HISP'] * college_debt_1['UGDS']\n",
        "college_debt_1['Num_Amer_Indian_UGDS'] = college_debt_1['UGDS_AIAN'] * college_debt_1['UGDS']\n",
        "college_debt_1['Num_Pacific_Isld_UGDS'] = college_debt_1['UGDS_NHPI'] * college_debt_1['UGDS']\n",
        "college_debt_1['Num_Mixed_UGDS'] = college_debt_1['UGDS_2MOR'] * college_debt_1['UGDS']\n",
        "college_debt_1['Num_Asian_UGDS'] = college_debt_1['UGDS_ASIAN'] * college_debt_1['UGDS']"
      ],
      "metadata": {
        "id": "OJR8ULF7I11p"
      },
      "execution_count": null,
      "outputs": []
    },
    {
      "cell_type": "code",
      "source": [
        "college_debt_1['White'] = college_debt_1['Num_White_UGDS']>= 1\n",
        "college_debt_1['Black'] = college_debt_1['Num_Black_UGDS']>= 1\n",
        "college_debt_1['Hispanic'] = college_debt_1['Num_Hispanic_UGDS']>= 1\n",
        "college_debt_1['American Indian'] = college_debt_1['Num_Amer_Indian_UGDS']>= 1\n",
        "college_debt_1['Pacific Islander'] = college_debt_1['Num_Pacific_Isld_UGDS']>= 1\n",
        "college_debt_1['Mixed'] = college_debt_1['Num_Mixed_UGDS']>= 1\n",
        "college_debt_1['Asian'] = college_debt_1['Num_Asian_UGDS']>= 1"
      ],
      "metadata": {
        "id": "pBFb84lsHVkW"
      },
      "execution_count": null,
      "outputs": []
    },
    {
      "cell_type": "markdown",
      "source": [
        "https://carnegieclassifications.acenet.edu/classification_descriptions/size_setting.php this website indicates that large universities are more than or equal to 10000."
      ],
      "metadata": {
        "id": "I7GGqK_qNbT1"
      }
    },
    {
      "cell_type": "code",
      "source": [
        "college_debt_1['Large Universities'] = college_debt_1['UGDS']>= 10000 "
      ],
      "metadata": {
        "id": "pXwA0eNoNrD1"
      },
      "execution_count": null,
      "outputs": []
    },
    {
      "cell_type": "code",
      "source": [
        "college_debt_1['White_Stud_College_Debt'] = college_debt_1['White'] & college_debt_1['GRAD_DEBT_MDN_SUPP']"
      ],
      "metadata": {
        "id": "zcLyrhbQO_FW"
      },
      "execution_count": null,
      "outputs": []
    },
    {
      "cell_type": "code",
      "source": [
        "college_debt_1['White_Stud_Large_Uni_Debt'] = college_debt_1['Large Universities'] & college_debt_1['White_Stud_College_Debt']"
      ],
      "metadata": {
        "id": "Gez1RRsHOaAH"
      },
      "execution_count": null,
      "outputs": []
    },
    {
      "cell_type": "code",
      "source": [
        "college_debt_1['Black_Stud_College_Debt'] = college_debt_1['Black'] & college_debt_1['GRAD_DEBT_MDN_SUPP']"
      ],
      "metadata": {
        "id": "TzNoF54ZQ24E"
      },
      "execution_count": null,
      "outputs": []
    },
    {
      "cell_type": "code",
      "source": [
        "college_debt_1['Black_Stud_Large_Uni_Debt'] = college_debt_1['Large Universities'] & college_debt_1['Black_Stud_College_Debt']"
      ],
      "metadata": {
        "id": "Esnu4_K8QQx6"
      },
      "execution_count": null,
      "outputs": []
    },
    {
      "cell_type": "markdown",
      "source": [
        "Descriptive Statistics on the two groups average debt for white students versus black students in large universities."
      ],
      "metadata": {
        "id": "gKO1X8rX6H-T"
      }
    },
    {
      "cell_type": "code",
      "source": [
        "def series_statistics(column):\n",
        "  print('statistics: {}'.format(column.name))\n",
        "  print('The max value: {}'.format(column.max()))\n",
        "  print('The min value: {}'.format(column.min()))\n",
        "  print('The mode value: {}'.format(column.mode()))\n",
        "  print('The median value: {}'.format(column.median()))\n",
        "  print('The mean: {}'.format(column.mean()))\n",
        "  print('The std: {}'.format(column.std()))"
      ],
      "metadata": {
        "id": "6jZaopiIwV3c"
      },
      "execution_count": null,
      "outputs": []
    },
    {
      "cell_type": "code",
      "source": [
        "series_statistics(college_debt_1['White_Stud_Large_Uni_Debt'].astype(int))"
      ],
      "metadata": {
        "colab": {
          "base_uri": "https://localhost:8080/"
        },
        "id": "8-gpK_HywxBH",
        "outputId": "00036d73-9750-439e-ad84-f0658fe0e58c"
      },
      "execution_count": null,
      "outputs": [
        {
          "output_type": "stream",
          "name": "stdout",
          "text": [
            "statistics: White_Stud_Large_Uni_Debt\n",
            "The max value: 1\n",
            "The min value: 0\n",
            "The mode value: 0    0\n",
            "dtype: int64\n",
            "The median value: 0.0\n",
            "The mean: 0.08191850594227504\n",
            "The std: 0.27426962762297025\n"
          ]
        }
      ]
    },
    {
      "cell_type": "code",
      "source": [
        "series_statistics(college_debt_1['Black_Stud_Large_Uni_Debt'].astype(int))"
      ],
      "metadata": {
        "colab": {
          "base_uri": "https://localhost:8080/"
        },
        "id": "w3HUr-u6zuIQ",
        "outputId": "62687970-e83a-4d6d-9adc-fab1413d283c"
      },
      "execution_count": null,
      "outputs": [
        {
          "output_type": "stream",
          "name": "stdout",
          "text": [
            "statistics: Black_Stud_Large_Uni_Debt\n",
            "The max value: 1\n",
            "The min value: 0\n",
            "The mode value: 0    0\n",
            "dtype: int64\n",
            "The median value: 0.0\n",
            "The mean: 0.08191850594227504\n",
            "The std: 0.27426962762297025\n"
          ]
        }
      ]
    },
    {
      "cell_type": "markdown",
      "source": [
        "Independent sample t-tests for our two groups."
      ],
      "metadata": {
        "id": "_WNLIkEQ6hZJ"
      }
    },
    {
      "cell_type": "code",
      "source": [
        "mean1 = np.mean(np.array(college_debt_1['White_Stud_Large_Uni_Debt']))\n",
        "std1 = np.std(np.array(college_debt_1['White_Stud_Large_Uni_Debt']), ddof = 1)\n",
        "nobs1 = len(np.array(college_debt_1['White_Stud_Large_Uni_Debt']))\n",
        "\n",
        "mean2 = np.mean(np.array(college_debt_1['Black_Stud_Large_Uni_Debt']))\n",
        "std2 = np.std(np.array(college_debt_1['Black_Stud_Large_Uni_Debt']), ddof = 1)\n",
        "nobs2 = len(np.array(college_debt_1['Black_Stud_Large_Uni_Debt']))\n",
        "\n",
        "ttest_ind_from_stats(mean1 = mean1, std1 = std1, nobs1 = nobs1, mean2 = mean2, std2 = std2, nobs2 = nobs2, equal_var = False) "
      ],
      "metadata": {
        "colab": {
          "base_uri": "https://localhost:8080/"
        },
        "id": "Jy4-9ekQ2AT4",
        "outputId": "71744afe-b172-4e3b-ed37-11ed0ee1802f"
      },
      "execution_count": null,
      "outputs": [
        {
          "output_type": "execute_result",
          "data": {
            "text/plain": [
              "Ttest_indResult(statistic=0.0, pvalue=1.0)"
            ]
          },
          "metadata": {},
          "execution_count": 29
        }
      ]
    },
    {
      "cell_type": "markdown",
      "source": [
        "Barplots to show a visual difference in means. In this case, however, there is no difference in means of the two groups. "
      ],
      "metadata": {
        "id": "AyfddBPg6uQf"
      }
    },
    {
      "cell_type": "code",
      "source": [
        "category_order = ['White_Stud_Large_Uni_Debt','Black_Stud_Large_Uni_Debt']\n",
        "\n",
        "sns.catplot(data = college_debt_1, kind = \"bar\", order = category_order)\n",
        "\n",
        "sns.despine()\n",
        "\n",
        "plt.show()\n",
        "\n"
      ],
      "metadata": {
        "colab": {
          "base_uri": "https://localhost:8080/",
          "height": 369
        },
        "id": "qp54XOZzREbB",
        "outputId": "55a74eb1-4854-4e9b-b71e-23b4850314c8"
      },
      "execution_count": null,
      "outputs": [
        {
          "output_type": "display_data",
          "data": {
            "text/plain": [
              "<Figure size 360x360 with 1 Axes>"
            ],
            "image/png": "[encoded data removed]"
          },
          "metadata": {
            "needs_background": "light"
          }
        }
      ]
    },
    {
      "cell_type": "code",
      "source": [],
      "metadata": {
        "id": "LF4caRps5EcJ"
      },
      "execution_count": null,
      "outputs": []
    },
    {
      "cell_type": "markdown",
      "source": [
        "We must fail to reject the Null Hypothesis because there is no difference between white (.0819) and black students (.0819) average debt in large universities. The max is 1 because we are looking at averages. "
      ],
      "metadata": {
        "id": "BxupIURrR0Fk"
      }
    },
    {
      "cell_type": "markdown",
      "source": [
        "Now, we will look to see if there is a difference in average debt between white and hispanic students at large universities. We will go through the same steps as we did with white and black students' average debt at large universities. "
      ],
      "metadata": {
        "id": "Gxa90si64Z_f"
      }
    },
    {
      "cell_type": "code",
      "source": [
        "college_debt_1['Hispanic_Stud_College_Debt'] = college_debt_1['Hispanic'] & college_debt_1['GRAD_DEBT_MDN_SUPP']"
      ],
      "metadata": {
        "id": "immBlEJi5Np-"
      },
      "execution_count": null,
      "outputs": []
    },
    {
      "cell_type": "code",
      "source": [
        "college_debt_1['Hispanic_Stud_Large_Uni_Debt'] = college_debt_1['Large Universities'] & college_debt_1['Hispanic_Stud_College_Debt']"
      ],
      "metadata": {
        "id": "o7RYfVMc4BTX"
      },
      "execution_count": null,
      "outputs": []
    },
    {
      "cell_type": "code",
      "source": [
        "def series_statistics(column):\n",
        "  print('statistics: {}'.format(column.name))\n",
        "  print('The max value: {}'.format(column.max()))\n",
        "  print('The min value: {}'.format(column.min()))\n",
        "  print('The mode value: {}'.format(column.mode()))\n",
        "  print('The median value: {}'.format(column.median()))\n",
        "  print('The mean: {}'.format(column.mean()))\n",
        "  print('The std: {}'.format(column.std()))"
      ],
      "metadata": {
        "id": "9qfB0-j755_s"
      },
      "execution_count": null,
      "outputs": []
    },
    {
      "cell_type": "code",
      "source": [
        "series_statistics(college_debt_1['White_Stud_Large_Uni_Debt'].astype(int))"
      ],
      "metadata": {
        "colab": {
          "base_uri": "https://localhost:8080/"
        },
        "id": "NtCMrPQS6B__",
        "outputId": "75ee8b46-088c-4f70-97fa-022952e25e94"
      },
      "execution_count": null,
      "outputs": [
        {
          "output_type": "stream",
          "name": "stdout",
          "text": [
            "statistics: White_Stud_Large_Uni_Debt\n",
            "The max value: 1\n",
            "The min value: 0\n",
            "The mode value: 0    0\n",
            "dtype: int64\n",
            "The median value: 0.0\n",
            "The mean: 0.08191850594227504\n",
            "The std: 0.27426962762297025\n"
          ]
        }
      ]
    },
    {
      "cell_type": "code",
      "source": [
        "series_statistics(college_debt_1['Hispanic_Stud_Large_Uni_Debt'].astype(int))"
      ],
      "metadata": {
        "colab": {
          "base_uri": "https://localhost:8080/"
        },
        "id": "6iphxyGy7tI0",
        "outputId": "d4084964-b7f0-408a-c941-fa7c51535a09"
      },
      "execution_count": null,
      "outputs": [
        {
          "output_type": "stream",
          "name": "stdout",
          "text": [
            "statistics: Hispanic_Stud_Large_Uni_Debt\n",
            "The max value: 1\n",
            "The min value: 0\n",
            "The mode value: 0    0\n",
            "dtype: int64\n",
            "The median value: 0.0\n",
            "The mean: 0.08276740237691002\n",
            "The std: 0.2755595658105553\n"
          ]
        }
      ]
    },
    {
      "cell_type": "code",
      "source": [
        "mean1 = np.mean(np.array(college_debt_1['White_Stud_Large_Uni_Debt']))\n",
        "std1 = np.std(np.array(college_debt_1['White_Stud_Large_Uni_Debt']), ddof = 1)\n",
        "nobs1 = len(np.array(college_debt_1['White_Stud_Large_Uni_Debt']))\n",
        "\n",
        "mean2 = np.mean(np.array(college_debt_1['Hispanic_Stud_Large_Uni_Debt']))\n",
        "std2 = np.std(np.array(college_debt_1['Hispanic_Stud_Large_Uni_Debt']), ddof = 1)\n",
        "nobs2 = len(np.array(college_debt_1['Hispanic_Stud_Large_Uni_Debt']))\n",
        "\n",
        "ttest_ind_from_stats(mean1 = mean1, std1 = std1, nobs1 = nobs1, mean2 = mean2, std2 = std2, nobs2 = nobs2, equal_var = False) "
      ],
      "metadata": {
        "colab": {
          "base_uri": "https://localhost:8080/"
        },
        "id": "jsD1V73S77Cn",
        "outputId": "17902570-eb30-40d9-8828-848511bbb30c"
      },
      "execution_count": null,
      "outputs": [
        {
          "output_type": "execute_result",
          "data": {
            "text/plain": [
              "Ttest_indResult(statistic=-0.14987988731374607, pvalue=0.8808625882027221)"
            ]
          },
          "metadata": {},
          "execution_count": 36
        }
      ]
    },
    {
      "cell_type": "code",
      "source": [
        "category_order = ['White_Stud_Large_Uni_Debt','Hispanic_Stud_Large_Uni_Debt']\n",
        "\n",
        "sns.catplot(data = college_debt_1, kind = \"bar\", order = category_order)\n",
        "\n",
        "sns.despine()\n",
        "\n",
        "plt.show()"
      ],
      "metadata": {
        "colab": {
          "base_uri": "https://localhost:8080/",
          "height": 369
        },
        "id": "oYxZp67v8NoZ",
        "outputId": "d481e1ff-44b2-4e66-98a1-38e614ea1f36"
      },
      "execution_count": null,
      "outputs": [
        {
          "output_type": "display_data",
          "data": {
            "text/plain": [
              "<Figure size 360x360 with 1 Axes>"
            ],
            "image/png": "[encoded data removed]"
          },
          "metadata": {
            "needs_background": "light"
          }
        }
      ]
    },
    {
      "cell_type": "markdown",
      "source": [
        "Although the pvalue is slightly lower for the difference in means between white and hispanic students at .88. There is no significant difference in means between the two groups. The descriptive statistics state that white students' average debt is .0819 and hispanic students' average debt is .0827 in large universities. We fail to reject the null hypothesis.  "
      ],
      "metadata": {
        "id": "9-i1QwQt8Zd_"
      }
    },
    {
      "cell_type": "markdown",
      "source": [
        "Now, we will look to see if there is a difference in average debt between White and Asian students at large universities."
      ],
      "metadata": {
        "id": "7ply8cpc94Uk"
      }
    },
    {
      "cell_type": "code",
      "source": [
        "college_debt_1['Asian_Stud_College_Debt'] = college_debt_1['Asian'] & college_debt_1['GRAD_DEBT_MDN_SUPP']"
      ],
      "metadata": {
        "id": "ethgzC3u-Izd"
      },
      "execution_count": null,
      "outputs": []
    },
    {
      "cell_type": "code",
      "source": [
        "college_debt_1['Asian_Stud_Large_Uni_Debt'] = college_debt_1['Large Universities'] & college_debt_1['Asian_Stud_College_Debt']"
      ],
      "metadata": {
        "id": "1ubWIp61-fOK"
      },
      "execution_count": null,
      "outputs": []
    },
    {
      "cell_type": "code",
      "source": [
        "series_statistics(college_debt_1['White_Stud_Large_Uni_Debt'].astype(int))"
      ],
      "metadata": {
        "colab": {
          "base_uri": "https://localhost:8080/"
        },
        "id": "LGtXVCSz-tqW",
        "outputId": "f3cf15e9-a48c-4d1f-abbe-1b1b0c55bf4e"
      },
      "execution_count": null,
      "outputs": [
        {
          "output_type": "stream",
          "name": "stdout",
          "text": [
            "statistics: White_Stud_Large_Uni_Debt\n",
            "The max value: 1\n",
            "The min value: 0\n",
            "The mode value: 0    0\n",
            "dtype: int64\n",
            "The median value: 0.0\n",
            "The mean: 0.08191850594227504\n",
            "The std: 0.27426962762297025\n"
          ]
        }
      ]
    },
    {
      "cell_type": "code",
      "source": [
        "series_statistics(college_debt_1['Asian_Stud_Large_Uni_Debt'].astype(int))"
      ],
      "metadata": {
        "colab": {
          "base_uri": "https://localhost:8080/"
        },
        "id": "YirdR4Gy-xhy",
        "outputId": "fd47cf4b-08da-45aa-f6b9-ae2c5a2e65ab"
      },
      "execution_count": null,
      "outputs": [
        {
          "output_type": "stream",
          "name": "stdout",
          "text": [
            "statistics: Asian_Stud_Large_Uni_Debt\n",
            "The max value: 1\n",
            "The min value: 0\n",
            "The mode value: 0    0\n",
            "dtype: int64\n",
            "The median value: 0.0\n",
            "The mean: 0.08191850594227504\n",
            "The std: 0.27426962762297025\n"
          ]
        }
      ]
    },
    {
      "cell_type": "code",
      "source": [
        "mean1 = np.mean(np.array(college_debt_1['White_Stud_Large_Uni_Debt']))\n",
        "std1 = np.std(np.array(college_debt_1['White_Stud_Large_Uni_Debt']), ddof = 1)\n",
        "nobs1 = len(np.array(college_debt_1['White_Stud_Large_Uni_Debt']))\n",
        "\n",
        "mean2 = np.mean(np.array(college_debt_1['Asian_Stud_Large_Uni_Debt']))\n",
        "std2 = np.std(np.array(college_debt_1['Asian_Stud_Large_Uni_Debt']), ddof = 1)\n",
        "nobs2 = len(np.array(college_debt_1['Asian_Stud_Large_Uni_Debt']))\n",
        "\n",
        "ttest_ind_from_stats(mean1 = mean1, std1 = std1, nobs1 = nobs1, mean2 = mean2, std2 = std2, nobs2 = nobs2, equal_var = False) "
      ],
      "metadata": {
        "colab": {
          "base_uri": "https://localhost:8080/"
        },
        "id": "a9niZNTn_QLh",
        "outputId": "a5588c27-323e-41d6-ae18-fec1b5de3a9c"
      },
      "execution_count": null,
      "outputs": [
        {
          "output_type": "execute_result",
          "data": {
            "text/plain": [
              "Ttest_indResult(statistic=0.0, pvalue=1.0)"
            ]
          },
          "metadata": {},
          "execution_count": 42
        }
      ]
    },
    {
      "cell_type": "code",
      "source": [
        "category_order = ['White_Stud_Large_Uni_Debt','Asian_Stud_Large_Uni_Debt']\n",
        "\n",
        "sns.catplot(data = college_debt_1, kind = \"bar\", order = category_order)\n",
        "\n",
        "sns.despine()\n",
        "\n",
        "plt.show()"
      ],
      "metadata": {
        "colab": {
          "base_uri": "https://localhost:8080/",
          "height": 369
        },
        "id": "EKnJI_ew_xD7",
        "outputId": "6f41287c-7327-4acc-86c1-90d78ae54f94"
      },
      "execution_count": null,
      "outputs": [
        {
          "output_type": "display_data",
          "data": {
            "text/plain": [
              "<Figure size 360x360 with 1 Axes>"
            ],
            "image/png": "[encoded data removed]"
          },
          "metadata": {
            "needs_background": "light"
          }
        }
      ]
    },
    {
      "cell_type": "markdown",
      "source": [
        "Again, we must fail to reject the Null Hypothesis because there is no difference between white (.0819) and asian students (.0819) average debt in large universities. Just like between white and black students' average debt in large universities we have p-value of 1, 0 difference in means. "
      ],
      "metadata": {
        "id": "jCnqZM5sAAMH"
      }
    },
    {
      "cell_type": "markdown",
      "source": [
        "Now, lets look at small colleges and see if there's a difference in average debt for the same ethnic groups. "
      ],
      "metadata": {
        "id": "sffUmuH0Aeqn"
      }
    },
    {
      "cell_type": "markdown",
      "source": [
        "Remember that we are using the Carnegie University size designation for guidance on college sizes. https://carnegieclassifications.acenet.edu/classification_descriptions/size_setting.php this website indicates that small colleges are less than or equal to 2999. "
      ],
      "metadata": {
        "id": "a9XIZiFDCwoD"
      }
    },
    {
      "cell_type": "markdown",
      "source": [
        "These are the original hypotheses for small colleges. \n",
        "\n",
        "Null: There is no significant difference in average college student debt by ethnicity for small colleges.\n",
        "\n",
        "Alternate: There is a significant difference in average college student debt by ethnicity for small colleges. "
      ],
      "metadata": {
        "id": "kIop8q1mD_PA"
      }
    },
    {
      "cell_type": "code",
      "source": [
        "college_debt_1['Small College'] = college_debt_1['UGDS']<= 2999 "
      ],
      "metadata": {
        "id": "y5dRkbjfCqyZ"
      },
      "execution_count": null,
      "outputs": []
    },
    {
      "cell_type": "code",
      "source": [
        "college_debt_1['White_Stud_Coll_Debt'] = college_debt_1['White'] & college_debt_1['GRAD_DEBT_MDN_SUPP']"
      ],
      "metadata": {
        "id": "0ldxhYiaE8K1"
      },
      "execution_count": null,
      "outputs": []
    },
    {
      "cell_type": "code",
      "source": [
        "college_debt_1['White_Stud_Small_Coll_Debt'] = college_debt_1['Small College'] & college_debt_1['White_Stud_College_Debt']"
      ],
      "metadata": {
        "id": "fSgpytfsFPB0"
      },
      "execution_count": null,
      "outputs": []
    },
    {
      "cell_type": "code",
      "source": [
        "college_debt_1['Black_Stud_Coll_Debt'] = college_debt_1['Black'] & college_debt_1['GRAD_DEBT_MDN_SUPP']"
      ],
      "metadata": {
        "id": "odvdgo2PFvn2"
      },
      "execution_count": null,
      "outputs": []
    },
    {
      "cell_type": "code",
      "source": [
        "college_debt_1['Black_Stud_Small_Coll_Debt'] = college_debt_1['Small College'] & college_debt_1['Black_Stud_College_Debt']"
      ],
      "metadata": {
        "id": "SeHqB7lfF3qO"
      },
      "execution_count": null,
      "outputs": []
    },
    {
      "cell_type": "code",
      "source": [
        "def series_statistics(column):\n",
        "  print('statistics: {}'.format(column.name))\n",
        "  print('The max value: {}'.format(column.max()))\n",
        "  print('The min value: {}'.format(column.min()))\n",
        "  print('The mode value: {}'.format(column.mode()))\n",
        "  print('The median value: {}'.format(column.median()))\n",
        "  print('The mean: {}'.format(column.mean()))\n",
        "  print('The std: {}'.format(column.std()))"
      ],
      "metadata": {
        "id": "WfxquaRlGE0l"
      },
      "execution_count": null,
      "outputs": []
    },
    {
      "cell_type": "code",
      "source": [
        "series_statistics(college_debt_1['White_Stud_Small_Coll_Debt'].astype(int))"
      ],
      "metadata": {
        "colab": {
          "base_uri": "https://localhost:8080/"
        },
        "id": "f_O_s6E6GMrT",
        "outputId": "f26bd9fc-9dd6-40f2-9587-affe59ee108a"
      },
      "execution_count": null,
      "outputs": [
        {
          "output_type": "stream",
          "name": "stdout",
          "text": [
            "statistics: White_Stud_Small_Coll_Debt\n",
            "The max value: 1\n",
            "The min value: 0\n",
            "The mode value: 0    1\n",
            "dtype: int64\n",
            "The median value: 1.0\n",
            "The mean: 0.7370543293718166\n",
            "The std: 0.44027989257073435\n"
          ]
        }
      ]
    },
    {
      "cell_type": "code",
      "source": [
        "series_statistics(college_debt_1['Black_Stud_Small_Coll_Debt'].astype(int))"
      ],
      "metadata": {
        "colab": {
          "base_uri": "https://localhost:8080/"
        },
        "id": "ACLY-YXJGfCc",
        "outputId": "3d842d03-525b-4d4b-89a7-a7e88c333849"
      },
      "execution_count": null,
      "outputs": [
        {
          "output_type": "stream",
          "name": "stdout",
          "text": [
            "statistics: Black_Stud_Small_Coll_Debt\n",
            "The max value: 1\n",
            "The min value: 0\n",
            "The mode value: 0    1\n",
            "dtype: int64\n",
            "The median value: 1.0\n",
            "The mean: 0.7236842105263158\n",
            "The std: 0.4472223389351621\n"
          ]
        }
      ]
    },
    {
      "cell_type": "code",
      "source": [
        "mean1 = np.mean(np.array(college_debt_1['White_Stud_Small_Coll_Debt']))\n",
        "std1 = np.std(np.array(college_debt_1['White_Stud_Small_Coll_Debt']), ddof = 1)\n",
        "nobs1 = len(np.array(college_debt_1['White_Stud_Small_Coll_Debt']))\n",
        "\n",
        "mean2 = np.mean(np.array(college_debt_1['Black_Stud_Small_Coll_Debt']))\n",
        "std2 = np.std(np.array(college_debt_1['Black_Stud_Small_Coll_Debt']), ddof = 1)\n",
        "nobs2 = len(np.array(college_debt_1['Black_Stud_Small_Coll_Debt']))\n",
        "\n",
        "ttest_ind_from_stats(mean1 = mean1, std1 = std1, nobs1 = nobs1, mean2 = mean2, std2 = std2, nobs2 = nobs2, equal_var = False) "
      ],
      "metadata": {
        "colab": {
          "base_uri": "https://localhost:8080/"
        },
        "id": "K6PcyEcvGutk",
        "outputId": "f9c2b99a-e79e-42a1-fdc8-68a51e90d18d"
      },
      "execution_count": null,
      "outputs": [
        {
          "output_type": "execute_result",
          "data": {
            "text/plain": [
              "Ttest_indResult(statistic=1.462413426480347, pvalue=0.14366131374419033)"
            ]
          },
          "metadata": {},
          "execution_count": 60
        }
      ]
    },
    {
      "cell_type": "code",
      "source": [
        "category_order = ['White_Stud_Small_Coll_Debt','Black_Stud_Small_Coll_Debt']\n",
        "\n",
        "sns.catplot(data = college_debt_1, kind = \"bar\", order = category_order)\n",
        "\n",
        "sns.despine()\n",
        "\n",
        "plt.show()"
      ],
      "metadata": {
        "colab": {
          "base_uri": "https://localhost:8080/",
          "height": 369
        },
        "id": "PYnq-YnCHMWw",
        "outputId": "3c292360-f8bd-41ab-b0e1-085194a54029"
      },
      "execution_count": null,
      "outputs": [
        {
          "output_type": "display_data",
          "data": {
            "text/plain": [
              "<Figure size 360x360 with 1 Axes>"
            ],
            "image/png": "[encoded data removed]"
          },
          "metadata": {
            "needs_background": "light"
          }
        }
      ]
    },
    {
      "cell_type": "markdown",
      "source": [
        "The p-value is much smaller between White and Black students for small colleges at 0.143. But, the p-value is not less than .05. The means are white(.74) and black (.73) so between our visuals, descriptive statistics and the independent t-test, we can conclude that we must fail to reject the null hypothesis that there is no signicant difference in average college debt for white and black students in small colleges. "
      ],
      "metadata": {
        "id": "Lim3SDMeH8O2"
      }
    },
    {
      "cell_type": "markdown",
      "source": [
        "Now, let's look at White students versus Hispanic students' average college debt in small colleges. "
      ],
      "metadata": {
        "id": "XROKAsSXI9rj"
      }
    },
    {
      "cell_type": "code",
      "source": [
        "college_debt_1['Hispanic_Stud_Coll_Debt'] = college_debt_1['Hispanic'] & college_debt_1['GRAD_DEBT_MDN_SUPP']"
      ],
      "metadata": {
        "id": "YREU4_66JMrt"
      },
      "execution_count": null,
      "outputs": []
    },
    {
      "cell_type": "code",
      "source": [
        "college_debt_1['Hispanic_Stud_Small_Coll_Debt'] = college_debt_1['Small College'] & college_debt_1['Hispanic_Stud_College_Debt']"
      ],
      "metadata": {
        "id": "NfFhbyi8JaBH"
      },
      "execution_count": null,
      "outputs": []
    },
    {
      "cell_type": "code",
      "source": [
        "def series_statistics(column):\n",
        "  print('statistics: {}'.format(column.name))\n",
        "  print('The max value: {}'.format(column.max()))\n",
        "  print('The min value: {}'.format(column.min()))\n",
        "  print('The mode value: {}'.format(column.mode()))\n",
        "  print('The median value: {}'.format(column.median()))\n",
        "  print('The mean: {}'.format(column.mean()))\n",
        "  print('The std: {}'.format(column.std()))"
      ],
      "metadata": {
        "id": "kFD8F89PJvMI"
      },
      "execution_count": null,
      "outputs": []
    },
    {
      "cell_type": "code",
      "source": [
        "series_statistics(college_debt_1['White_Stud_Small_Coll_Debt'].astype(int))"
      ],
      "metadata": {
        "colab": {
          "base_uri": "https://localhost:8080/"
        },
        "id": "wN5yBL52J9s4",
        "outputId": "9842eeb6-a4f3-4f6f-97f8-632f8211f3be"
      },
      "execution_count": null,
      "outputs": [
        {
          "output_type": "stream",
          "name": "stdout",
          "text": [
            "statistics: White_Stud_Small_Coll_Debt\n",
            "The max value: 1\n",
            "The min value: 0\n",
            "The mode value: 0    1\n",
            "dtype: int64\n",
            "The median value: 1.0\n",
            "The mean: 0.7370543293718166\n",
            "The std: 0.44027989257073435\n"
          ]
        }
      ]
    },
    {
      "cell_type": "code",
      "source": [
        "series_statistics(college_debt_1['Hispanic_Stud_Small_Coll_Debt'].astype(int))"
      ],
      "metadata": {
        "colab": {
          "base_uri": "https://localhost:8080/"
        },
        "id": "4If_LOIMKC-a",
        "outputId": "c75739d7-ccd8-400f-cc8b-b367339fac54"
      },
      "execution_count": null,
      "outputs": [
        {
          "output_type": "stream",
          "name": "stdout",
          "text": [
            "statistics: Hispanic_Stud_Small_Coll_Debt\n",
            "The max value: 1\n",
            "The min value: 0\n",
            "The mode value: 0    1\n",
            "dtype: int64\n",
            "The median value: 1.0\n",
            "The mean: 0.7058573853989814\n",
            "The std: 0.4557047385973583\n"
          ]
        }
      ]
    },
    {
      "cell_type": "code",
      "source": [
        "mean1 = np.mean(np.array(college_debt_1['White_Stud_Small_Coll_Debt']))\n",
        "std1 = np.std(np.array(college_debt_1['White_Stud_Small_Coll_Debt']), ddof = 1)\n",
        "nobs1 = len(np.array(college_debt_1['White_Stud_Small_Coll_Debt']))\n",
        "\n",
        "mean2 = np.mean(np.array(college_debt_1['Hispanic_Stud_Small_Coll_Debt']))\n",
        "std2 = np.std(np.array(college_debt_1['Hispanic_Stud_Small_Coll_Debt']), ddof = 1)\n",
        "nobs2 = len(np.array(college_debt_1['Hispanic_Stud_Small_Coll_Debt']))\n",
        "\n",
        "ttest_ind_from_stats(mean1 = mean1, std1 = std1, nobs1 = nobs1, mean2 = mean2, std2 = std2, nobs2 = nobs2, equal_var = False) "
      ],
      "metadata": {
        "colab": {
          "base_uri": "https://localhost:8080/"
        },
        "id": "-X3khTKtKQiZ",
        "outputId": "d9e15240-6e26-4a37-c475-f2abae28d487"
      },
      "execution_count": null,
      "outputs": [
        {
          "output_type": "execute_result",
          "data": {
            "text/plain": [
              "Ttest_indResult(statistic=3.3795959741062966, pvalue=0.0007288734251826513)"
            ]
          },
          "metadata": {},
          "execution_count": 67
        }
      ]
    },
    {
      "cell_type": "code",
      "source": [
        "category_order = ['White_Stud_Small_Coll_Debt','Hispanic_Stud_Small_Coll_Debt']\n",
        "\n",
        "sns.catplot(data = college_debt_1, kind = \"bar\", order = category_order)\n",
        "\n",
        "sns.despine()\n",
        "\n",
        "plt.show()"
      ],
      "metadata": {
        "colab": {
          "base_uri": "https://localhost:8080/",
          "height": 369
        },
        "id": "qkYUu5pPKfAO",
        "outputId": "e401207c-16f5-4c41-aca4-63b91182a3bc"
      },
      "execution_count": null,
      "outputs": [
        {
          "output_type": "display_data",
          "data": {
            "text/plain": [
              "<Figure size 360x360 with 1 Axes>"
            ],
            "image/png": "[encoded data removed]"
          },
          "metadata": {
            "needs_background": "light"
          }
        }
      ]
    },
    {
      "cell_type": "markdown",
      "source": [
        "Finally, we have to reject the null hypothesis that there is no significant difference between average debt of White and Hispanic students in small colleges. Our p-value is .0007 which is < .05. The means are visibly different at White (.74) and Hispanic at (.71) average college debt at small colleges. We must accept the alternate hypothesis in this case. "
      ],
      "metadata": {
        "id": "tpyl5dYSLF2M"
      }
    },
    {
      "cell_type": "markdown",
      "source": [
        "Now let's look to see if there is a difference between White and Asian students' average college debt in small colleges. "
      ],
      "metadata": {
        "id": "FFzTci7jMFTa"
      }
    },
    {
      "cell_type": "code",
      "source": [
        "college_debt_1['Asian_Stud_Coll_Debt'] = college_debt_1['Asian'] & college_debt_1['GRAD_DEBT_MDN_SUPP']"
      ],
      "metadata": {
        "id": "t7tZuw6iMoX3"
      },
      "execution_count": null,
      "outputs": []
    },
    {
      "cell_type": "code",
      "source": [
        "college_debt_1['Asian_Stud_Small_Coll_Debt'] = college_debt_1['Small College'] & college_debt_1['Asian_Stud_College_Debt']"
      ],
      "metadata": {
        "id": "DT--nBTdM3VY"
      },
      "execution_count": null,
      "outputs": []
    },
    {
      "cell_type": "code",
      "source": [
        "def series_statistics(column):\n",
        "  print('statistics: {}'.format(column.name))\n",
        "  print('The max value: {}'.format(column.max()))\n",
        "  print('The min value: {}'.format(column.min()))\n",
        "  print('The mode value: {}'.format(column.mode()))\n",
        "  print('The median value: {}'.format(column.median()))\n",
        "  print('The mean: {}'.format(column.mean()))\n",
        "  print('The std: {}'.format(column.std()))"
      ],
      "metadata": {
        "id": "8jNYEX5wNEOK"
      },
      "execution_count": null,
      "outputs": []
    },
    {
      "cell_type": "code",
      "source": [
        "series_statistics(college_debt_1['White_Stud_Small_Coll_Debt'].astype(int))"
      ],
      "metadata": {
        "colab": {
          "base_uri": "https://localhost:8080/"
        },
        "id": "HP5FCEIYNL_E",
        "outputId": "4bf6570f-7b6c-4ddc-d185-dfbea993c014"
      },
      "execution_count": null,
      "outputs": [
        {
          "output_type": "stream",
          "name": "stdout",
          "text": [
            "statistics: White_Stud_Small_Coll_Debt\n",
            "The max value: 1\n",
            "The min value: 0\n",
            "The mode value: 0    1\n",
            "dtype: int64\n",
            "The median value: 1.0\n",
            "The mean: 0.7370543293718166\n",
            "The std: 0.44027989257073435\n"
          ]
        }
      ]
    },
    {
      "cell_type": "code",
      "source": [
        "series_statistics(college_debt_1['Asian_Stud_Small_Coll_Debt'].astype(int))"
      ],
      "metadata": {
        "colab": {
          "base_uri": "https://localhost:8080/"
        },
        "id": "qee_YBYrNbTY",
        "outputId": "83be1a32-f213-402d-ae07-45ae50a8f059"
      },
      "execution_count": null,
      "outputs": [
        {
          "output_type": "stream",
          "name": "stdout",
          "text": [
            "statistics: Asian_Stud_Small_Coll_Debt\n",
            "The max value: 1\n",
            "The min value: 0\n",
            "The mode value: 0    1\n",
            "dtype: int64\n",
            "The median value: 1.0\n",
            "The mean: 0.5880730050933786\n",
            "The std: 0.4922342598014026\n"
          ]
        }
      ]
    },
    {
      "cell_type": "code",
      "source": [
        "mean1 = np.mean(np.array(college_debt_1['White_Stud_Small_Coll_Debt']))\n",
        "std1 = np.std(np.array(college_debt_1['White_Stud_Small_Coll_Debt']), ddof = 1)\n",
        "nobs1 = len(np.array(college_debt_1['White_Stud_Small_Coll_Debt']))\n",
        "\n",
        "mean2 = np.mean(np.array(college_debt_1['Asian_Stud_Small_Coll_Debt']))\n",
        "std2 = np.std(np.array(college_debt_1['Asian_Stud_Small_Coll_Debt']), ddof = 1)\n",
        "nobs2 = len(np.array(college_debt_1['Asian_Stud_Small_Coll_Debt']))\n",
        "\n",
        "ttest_ind_from_stats(mean1 = mean1, std1 = std1, nobs1 = nobs1, mean2 = mean2, std2 = std2, nobs2 = nobs2, equal_var = False) "
      ],
      "metadata": {
        "colab": {
          "base_uri": "https://localhost:8080/"
        },
        "id": "pZcDthJNNzKJ",
        "outputId": "a4ff2a39-5a29-4dc4-adac-6d7567865ce9"
      },
      "execution_count": null,
      "outputs": [
        {
          "output_type": "execute_result",
          "data": {
            "text/plain": [
              "Ttest_indResult(statistic=15.485350454186948, pvalue=2.0145409849777485e-53)"
            ]
          },
          "metadata": {},
          "execution_count": 75
        }
      ]
    },
    {
      "cell_type": "code",
      "source": [
        "category_order = ['White_Stud_Small_Coll_Debt','Asian_Stud_Small_Coll_Debt']\n",
        "\n",
        "sns.catplot(data = college_debt_1, kind = \"bar\", order = category_order)\n",
        "\n",
        "sns.despine()\n",
        "\n",
        "plt.show()"
      ],
      "metadata": {
        "colab": {
          "base_uri": "https://localhost:8080/",
          "height": 369
        },
        "id": "RrrqZDtdOKUh",
        "outputId": "70b59431-f161-4a72-85b9-469982be61ea"
      },
      "execution_count": null,
      "outputs": [
        {
          "output_type": "display_data",
          "data": {
            "text/plain": [
              "<Figure size 360x360 with 1 Axes>"
            ],
            "image/png": "[encoded data removed]"
          },
          "metadata": {
            "needs_background": "light"
          }
        }
      ]
    },
    {
      "cell_type": "markdown",
      "source": [
        "Again, we have to reject the null hypothesis that there is no significant difference between average debt of White and Asian students in small colleges. Our p-value is\n",
        " 2.01e-53 which is definitely smaller than < .05. The means are visibly different at White students' (.73) and Asian students' (.58) average college debt at small colleges. We must accept the alternate hypothesis in this case as well.  "
      ],
      "metadata": {
        "id": "jMb182EAOf-P"
      }
    },
    {
      "cell_type": "markdown",
      "source": [
        "**Main conclusions:** \n",
        "\n",
        "There's a moderate correlation between Graduate Debt and Median Earnings. There are some stronger patterns if we take region into consideration. The Southeast appears to have higher debt and lower median income which makes sense because the cost of living in the Southeast is fairly low compared to the rest of the United States. That is troubling for graduates in the Southeast that must pay back their debt on lower wages.   \n",
        "\n",
        "We found that in large universities there is no significant difference between White students' average debt and that of Hispanic, Black or Asian students.\n",
        "\n",
        "In the case of small colleges there is not signficant difference between White and Black students' average debt. However between White and Hispanic and White and Asian students, there's a significant difference in average college debt in small colleges. That is what the data tells us based on descriptive statistics, barplots and two sample independent t-tests.  "
      ],
      "metadata": {
        "id": "hX_bu2ZSPu8c"
      }
    }
  ]
}