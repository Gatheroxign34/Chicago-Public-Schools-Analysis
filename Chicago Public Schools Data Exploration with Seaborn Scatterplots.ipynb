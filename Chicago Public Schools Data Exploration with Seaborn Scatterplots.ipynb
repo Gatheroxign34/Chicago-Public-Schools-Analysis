{
 "cells": [
  {
   "cell_type": "code",
   "execution_count": 113,
   "id": "23abdd31-5f9c-42d3-b15e-85c21d1b9890",
   "metadata": {},
   "outputs": [
    {
     "name": "stdout",
     "output_type": "stream",
     "text": [
      "   School_ID  Legacy_Unit_ID  Finance_ID                   Short_Name  \\\n",
      "0   610357.0          7930.0     46461.0                      SPRY HS   \n",
      "1   610334.0          7690.0     46471.0                      RABY HS   \n",
      "2   609723.0          1470.0     47041.0                  MARSHALL HS   \n",
      "3   610385.0          7630.0     55181.0             MULTICULTURAL HS   \n",
      "4   400059.0          1106.0     66092.0  NORTH LAWNDALE - COLLINS HS   \n",
      "\n",
      "                                Long_Name Primary_Category Is_High_School  \\\n",
      "0        Spry Community Links High School               HS           True   \n",
      "1                     Al Raby High School               HS           True   \n",
      "2  John Marshall Metropolitan High School               HS           True   \n",
      "3    Multicultural Academy of Scholarship               HS           True   \n",
      "4   North Lawndale College Prep - Collins               HS           True   \n",
      "\n",
      "  Is_Middle_School Is_Elementary_School Is_Pre_School  ...  \\\n",
      "0            False                False         False  ...   \n",
      "1            False                False         False  ...   \n",
      "2            False                False         False  ...   \n",
      "3            False                False         False  ...   \n",
      "4            False                False         False  ...   \n",
      "\n",
      "  Sixth_Contact_Title Sixth_Contact_Name   Seventh_Contact_Title  \\\n",
      "0                 NaN                NaN                     NaN   \n",
      "1          Chief Dean    D'Angelo Dereef  Technology Coordinator   \n",
      "2                 NaN                NaN                     NaN   \n",
      "3                 NaN                NaN                     NaN   \n",
      "4                 NaN                NaN                     NaN   \n",
      "\n",
      "  Seventh_Contact_Name     Network Is_GoCPS_Participant Is_GoCPS_PreK  \\\n",
      "0                  NaN  Network 16                 True         False   \n",
      "1     Joaquin Martinez  Network 15                 True         False   \n",
      "2                  NaN  Network 15                 True         False   \n",
      "3                  NaN  Network 15                 True         False   \n",
      "4                  NaN     Charter                 True         False   \n",
      "\n",
      "  Is_GoCPS_Elementary  Is_GoCPS_High_School  Open_For_Enrollment_Date  \n",
      "0               False                  True               9/1/04 0:00  \n",
      "1               False                  True               9/1/04 0:00  \n",
      "2               False                  True               9/1/04 0:00  \n",
      "3               False                  True               9/1/04 0:00  \n",
      "4               False                  True               9/1/04 0:00  \n",
      "\n",
      "[5 rows x 88 columns]\n"
     ]
    }
   ],
   "source": [
    "import pandas as pd\n",
    "import sqlite3\n",
    "import matplotlib.pyplot as plt \n",
    "import seaborn as sns \n",
    "\n",
    "\n",
    "cpdf = pd.read_csv('Chicago Public Data_Cleaned for Zipcode Specificity .csv')\n",
    "print(cpdf.head())\n"
   ]
  },
  {
   "cell_type": "code",
   "execution_count": null,
   "id": "5b0a55e5-a322-41c1-bbab-a8f1251240c9",
   "metadata": {},
   "outputs": [],
   "source": [
    "Created a sql database"
   ]
  },
  {
   "cell_type": "code",
   "execution_count": 26,
   "id": "3fd0916c-aa03-4120-be8e-071a1a3f2105",
   "metadata": {},
   "outputs": [],
   "source": [
    "conn = sqlite3.connect('Chicago_Public.sqlite')"
   ]
  },
  {
   "cell_type": "code",
   "execution_count": null,
   "id": "b3b5f811-e8a4-4db6-9f6f-9e58080f93fc",
   "metadata": {},
   "outputs": [],
   "source": [
    "Sent the database to sql"
   ]
  },
  {
   "cell_type": "code",
   "execution_count": 29,
   "id": "f88e452d-06b1-4dbb-b1f4-8b58176ef7dc",
   "metadata": {},
   "outputs": [
    {
     "data": {
      "text/plain": [
       "37"
      ]
     },
     "execution_count": 29,
     "metadata": {},
     "output_type": "execute_result"
    }
   ],
   "source": [
    "cpdf.to_sql(\"cp_tbl\",conn)"
   ]
  },
  {
   "cell_type": "code",
   "execution_count": 28,
   "id": "f979a47a-0e9b-4a31-9ed1-d023323d872c",
   "metadata": {},
   "outputs": [],
   "source": [
    "Ran sql queries on the new table "
   ]
  },
  {
   "cell_type": "code",
   "execution_count": 30,
   "id": "39b9ac06-ba35-4254-83d6-f790b23e5445",
   "metadata": {},
   "outputs": [],
   "source": [
    "cpdf1 = pd.read_sql(\"SELECT * FROM cp_tbl\",conn)              "
   ]
  },
  {
   "cell_type": "code",
   "execution_count": 36,
   "id": "0b7ac9aa-ae51-4869-a624-3b9f625043b2",
   "metadata": {},
   "outputs": [],
   "source": [
    "cpdf2 = pd.read_sql(\"SELECT Short_Name, Network FROM cp_tbl LIMIT 15\",conn) "
   ]
  },
  {
   "cell_type": "markdown",
   "id": "538b6ee5-9c5b-4416-bb4f-d8bbf1db3fb0",
   "metadata": {},
   "source": [
    "Compared High Schools with Network Column to see which are Charter Schools or Non-Network"
   ]
  },
  {
   "cell_type": "code",
   "execution_count": 37,
   "id": "c2d7a77d-8163-452a-b316-5de5e8db70e2",
   "metadata": {},
   "outputs": [
    {
     "name": "stdout",
     "output_type": "stream",
     "text": [
      "                        Short_Name     Network\n",
      "0                          SPRY HS  Network 16\n",
      "1                          RABY HS  Network 15\n",
      "2                      MARSHALL HS  Network 15\n",
      "3                 MULTICULTURAL HS  Network 15\n",
      "4      NORTH LAWNDALE - COLLINS HS     Charter\n",
      "5                           ORR HS        AUSL\n",
      "6                WORLD LANGUAGE HS  Network 15\n",
      "7                      FARRAGUT HS  Network 16\n",
      "8                       COLLINS HS        AUSL\n",
      "9                    LEGAL PREP HS     Charter\n",
      "10               SOCIAL JUSTICE HS  Network 15\n",
      "11                     INFINITY HS         ISP\n",
      "12                  NOBLE - DRW HS     Charter\n",
      "13  NORTH LAWNDALE - CHRISTIANA HS     Charter\n",
      "14                 WESTINGHOUSE HS  Network 15\n"
     ]
    }
   ],
   "source": [
    "print(cpdf2)"
   ]
  },
  {
   "cell_type": "code",
   "execution_count": 39,
   "id": "013fc0c0-b875-491d-904f-d3d889477394",
   "metadata": {},
   "outputs": [],
   "source": [
    "cpdf3 = pd.read_sql(\"SELECT Short_Name, Network FROM cp_tbl WHERE Zip ='60623'\",conn)"
   ]
  },
  {
   "cell_type": "raw",
   "id": "29928070-5dc3-4f21-ae72-0945ed8740fe",
   "metadata": {},
   "source": [
    "This query separated the South Lawndale Neighborhood from West Garfield Neighborhood"
   ]
  },
  {
   "cell_type": "code",
   "execution_count": 40,
   "id": "e5412b22-c611-42ff-96a5-caba01e5f12d",
   "metadata": {},
   "outputs": [
    {
     "name": "stdout",
     "output_type": "stream",
     "text": [
      "                       Short_Name     Network\n",
      "0                         SPRY HS  Network 16\n",
      "1                MULTICULTURAL HS  Network 15\n",
      "2     NORTH LAWNDALE - COLLINS HS     Charter\n",
      "3               WORLD LANGUAGE HS  Network 15\n",
      "4                     FARRAGUT HS  Network 16\n",
      "5                      COLLINS HS        AUSL\n",
      "6               SOCIAL JUSTICE HS  Network 15\n",
      "7                     INFINITY HS         ISP\n",
      "8  NORTH LAWNDALE - CHRISTIANA HS     Charter\n"
     ]
    }
   ],
   "source": [
    "print(cpdf3)"
   ]
  },
  {
   "cell_type": "code",
   "execution_count": 42,
   "id": "124b62b1-94d7-4aae-9e3c-81703db18b3e",
   "metadata": {},
   "outputs": [],
   "source": [
    "cpdf4 = pd.read_sql(\"SELECT Short_Name, Network, Student_Count_English_Learners FROM cp_tbl WHERE Zip ='60623'\",conn)"
   ]
  },
  {
   "cell_type": "code",
   "execution_count": 43,
   "id": "5ffc4a2a-f847-4963-b98b-933fbbcc0bae",
   "metadata": {},
   "outputs": [
    {
     "name": "stdout",
     "output_type": "stream",
     "text": [
      "                       Short_Name     Network  Student_Count_English_Learners\n",
      "0                         SPRY HS  Network 16                            53.0\n",
      "1                MULTICULTURAL HS  Network 15                            75.0\n",
      "2     NORTH LAWNDALE - COLLINS HS     Charter                             0.0\n",
      "3               WORLD LANGUAGE HS  Network 15                           102.0\n",
      "4                     FARRAGUT HS  Network 16                           173.0\n",
      "5                      COLLINS HS        AUSL                             0.0\n",
      "6               SOCIAL JUSTICE HS  Network 15                            74.0\n",
      "7                     INFINITY HS         ISP                            60.0\n",
      "8  NORTH LAWNDALE - CHRISTIANA HS     Charter                             0.0\n"
     ]
    }
   ],
   "source": [
    "print(cpdf4)"
   ]
  },
  {
   "cell_type": "raw",
   "id": "15740d1d-3745-48b5-a00d-f5667ab90984",
   "metadata": {},
   "source": [
    "District-run CPS schools are organized into 17 networks. ISP stands for Independent School Principal. The Academy for Urban School Leadership is a non-profit school management organization that leads one of the largest school networks in Chicago with 31 neighborhood Schools of Excellence. "
   ]
  },
  {
   "cell_type": "code",
   "execution_count": 78,
   "id": "ed06c7cc-169e-40a0-8399-654c98a48e3c",
   "metadata": {},
   "outputs": [],
   "source": [
    "cpdf5 = pd.read_sql(\"SELECT Short_Name, Network, ROUND((Student_Count_English_Learners/Student_Count_Total * 100),0) AS HS_Percent_ELLs, Classroom_Languages, Bilingual_Services FROM cp_tbl WHERE Zip ='60623'\",conn)"
   ]
  },
  {
   "cell_type": "raw",
   "id": "37394466-868c-49d2-8f8e-bcdab626f31b",
   "metadata": {},
   "source": [
    "Our first query looked at the number of ELLs in each High School in the Southlawndale Neighborhood of Chicago."
   ]
  },
  {
   "cell_type": "code",
   "execution_count": 79,
   "id": "810bcd87-aeb7-42b1-a440-003efefb8224",
   "metadata": {},
   "outputs": [
    {
     "name": "stdout",
     "output_type": "stream",
     "text": [
      "                       Short_Name     Network  HS_Percent_ELLs  \\\n",
      "0                         SPRY HS  Network 16             42.0   \n",
      "1                MULTICULTURAL HS  Network 15             34.0   \n",
      "2     NORTH LAWNDALE - COLLINS HS     Charter              0.0   \n",
      "3               WORLD LANGUAGE HS  Network 15             29.0   \n",
      "4                     FARRAGUT HS  Network 16             26.0   \n",
      "5                      COLLINS HS        AUSL              0.0   \n",
      "6               SOCIAL JUSTICE HS  Network 15             24.0   \n",
      "7                     INFINITY HS         ISP             15.0   \n",
      "8  NORTH LAWNDALE - CHRISTIANA HS     Charter              0.0   \n",
      "\n",
      "                              Classroom_Languages  Bilingual_Services  \n",
      "0                                         Spanish                   1  \n",
      "1          Spanish, Spanish for Heritage Speakers                   1  \n",
      "2                                         Spanish                   1  \n",
      "3          Spanish, Spanish for Heritage Speakers                   1  \n",
      "4          Spanish, Spanish for Heritage Speakers                   1  \n",
      "5                                         Spanish                   0  \n",
      "6  French, Spanish, Spanish for Heritage Speakers                   1  \n",
      "7          Spanish, Spanish for Heritage Speakers                   1  \n",
      "8                                         Spanish                   1  \n"
     ]
    }
   ],
   "source": [
    "print(cpdf5)"
   ]
  },
  {
   "cell_type": "raw",
   "id": "b1bd1488-8aa5-4515-83b3-c547d5701226",
   "metadata": {},
   "source": [
    "From this query we can conclude that none of the Charter Schools have ELLs. Spry HS has the highest percentage of ELLs in Southlawndale Chicago."
   ]
  },
  {
   "cell_type": "code",
   "execution_count": 95,
   "id": "d6eb0cc7-1230-490b-ba0a-4f4a5ca91c67",
   "metadata": {},
   "outputs": [],
   "source": [
    "cpdf6 = pd.read_sql(\"SELECT Short_Name, Network, ROUND((Student_Count_Special_Ed/Student_Count_Total * 100),0) AS HS_Percent_Sp_Ed, Graduation_Rate_School, Significantly_Modified FROM cp_tbl WHERE Zip ='60623'\",conn)"
   ]
  },
  {
   "cell_type": "code",
   "execution_count": 96,
   "id": "4bca07fa-3c86-4e99-ac68-c59ca0f61cd1",
   "metadata": {},
   "outputs": [
    {
     "name": "stdout",
     "output_type": "stream",
     "text": [
      "                       Short_Name     Network  HS_Percent_Sp_Ed  \\\n",
      "0                         SPRY HS  Network 16              28.0   \n",
      "1                MULTICULTURAL HS  Network 15              33.0   \n",
      "2     NORTH LAWNDALE - COLLINS HS     Charter              19.0   \n",
      "3               WORLD LANGUAGE HS  Network 15              15.0   \n",
      "4                     FARRAGUT HS  Network 16              25.0   \n",
      "5                      COLLINS HS        AUSL              22.0   \n",
      "6               SOCIAL JUSTICE HS  Network 15              19.0   \n",
      "7                     INFINITY HS         ISP              14.0   \n",
      "8  NORTH LAWNDALE - CHRISTIANA HS     Charter              19.0   \n",
      "\n",
      "   Graduation_Rate_School  Significantly_Modified  \n",
      "0                    70.5                     NaN  \n",
      "1                    77.8                     NaN  \n",
      "2                    69.1                     NaN  \n",
      "3                    88.2                     NaN  \n",
      "4                    69.9                     1.0  \n",
      "5                    69.5                     NaN  \n",
      "6                    81.0                     NaN  \n",
      "7                    95.1                     NaN  \n",
      "8                    75.9                     NaN  \n"
     ]
    }
   ],
   "source": [
    "print(cpdf6)"
   ]
  },
  {
   "cell_type": "raw",
   "id": "a7035861-1e11-419f-a7d5-5dc06c51c1e1",
   "metadata": {},
   "source": [
    "From this query we can see that there are special education students in the Charter Schools but no ELLs in South Lawndale. This begs the question how many special education students in the charter schools could be underdocumented ELLs?\n"
   ]
  },
  {
   "cell_type": "code",
   "execution_count": 121,
   "id": "dc51a0d2-40ef-4b97-9caf-5cdbe2349d66",
   "metadata": {},
   "outputs": [
    {
     "data": {
      "text/plain": [
       "<AxesSubplot:title={'center':'High School Graduation Rates in South Lawndale Chicago 2018-19'}, xlabel='Graduation Rate', ylabel='South Lawndale High Schools'>"
      ]
     },
     "execution_count": 121,
     "metadata": {},
     "output_type": "execute_result"
    },
    {
     "data": {
      "image/png": "[encoded data removed]",
      "text/plain": [
       "<Figure size 432x288 with 1 Axes>"
      ]
     },
     "metadata": {
      "needs_background": "light"
     },
     "output_type": "display_data"
    }
   ],
   "source": [
    "xlab = 'Graduation Rate Per School'\n",
    "ylab = 'South Lawndale High Schools'\n",
    "title = 'High School Graduation Rates in South Lawndale Chicago 2018-19'\n",
    "\n",
    "plt.xlabel('Graduation Rate')\n",
    "plt.ylabel('South Lawndale High Schools')\n",
    "\n",
    "plt.title('High School Graduation Rates in South Lawndale Chicago 2018-19')\n",
    "\n",
    "sns.scatterplot(x=\"Graduation_Rate_School\", y=\"Short_Name\", data = cpdf6, hue = \"Network\")\n",
    "\n",
    "\n"
   ]
  },
  {
   "cell_type": "raw",
   "id": "effcf94d-b308-4121-bb7f-732c4f318ea5",
   "metadata": {},
   "source": [
    "In this scatterplot, we can see that the Independent Principal School, Infinity HS is an outlier with a 95% graduation rate. Infinity HS has the lowest rate of special education and English Language Learners. Spry HS has the highest percent of ELLs and second highest percent of special education students. Spry HS is only second to North Lawndale - Collins HS in lowest graduation rate at 70.5%. Could it be that there is a correlation between the number of ELLs and Special Education students and graduation rate? "
   ]
  },
  {
   "cell_type": "code",
   "execution_count": 82,
   "id": "fa7e2632-ef40-4e04-bd45-6cfa84ee14a0",
   "metadata": {},
   "outputs": [],
   "source": [
    "cpdf7 = pd.read_sql(\"SELECT Short_Name, Network, Student_Count_English_Learners FROM cp_tbl WHERE Zip ='60624'\",conn)"
   ]
  },
  {
   "cell_type": "code",
   "execution_count": 83,
   "id": "61dea434-a6c8-4d87-bef1-68f76138adfc",
   "metadata": {},
   "outputs": [
    {
     "name": "stdout",
     "output_type": "stream",
     "text": [
      "        Short_Name     Network  Student_Count_English_Learners\n",
      "0          RABY HS  Network 15                            13.0\n",
      "1      MARSHALL HS  Network 15                             1.0\n",
      "2           ORR HS        AUSL                             8.0\n",
      "3    LEGAL PREP HS     Charter                             0.0\n",
      "4   NOBLE - DRW HS     Charter                             2.0\n",
      "5  WESTINGHOUSE HS  Network 15                            25.0\n"
     ]
    }
   ],
   "source": [
    "print(cpdf7)"
   ]
  },
  {
   "cell_type": "code",
   "execution_count": 85,
   "id": "57c2cadd-7393-435c-8de0-aafc82ff4500",
   "metadata": {},
   "outputs": [],
   "source": [
    "cpdf8 = pd.read_sql(\"SELECT Short_Name, Network, ROUND((Student_Count_English_Learners/Student_Count_Total * 100),0) AS HS_Percent_ELLs, Classroom_Languages, Bilingual_Services FROM cp_tbl WHERE Zip ='60624'\",conn)"
   ]
  },
  {
   "cell_type": "code",
   "execution_count": 86,
   "id": "8bf986e3-fe67-4b13-b0f6-87cdd6837592",
   "metadata": {},
   "outputs": [
    {
     "name": "stdout",
     "output_type": "stream",
     "text": [
      "        Short_Name     Network  HS_Percent_ELLs       Classroom_Languages  \\\n",
      "0          RABY HS  Network 15              4.0                   Spanish   \n",
      "1      MARSHALL HS  Network 15              0.0                   Spanish   \n",
      "2           ORR HS        AUSL              3.0                   Spanish   \n",
      "3    LEGAL PREP HS     Charter              0.0                   Spanish   \n",
      "4   NOBLE - DRW HS     Charter              1.0                      None   \n",
      "5  WESTINGHOUSE HS  Network 15              2.0  Chinese, French, Spanish   \n",
      "\n",
      "   Bilingual_Services  \n",
      "0                   0  \n",
      "1                   0  \n",
      "2                   1  \n",
      "3                   0  \n",
      "4                   0  \n",
      "5                   0  \n"
     ]
    }
   ],
   "source": [
    "print(cpdf8)"
   ]
  },
  {
   "cell_type": "code",
   "execution_count": 97,
   "id": "c613be23-464c-4fd5-a03a-d08e3ed76c5e",
   "metadata": {},
   "outputs": [],
   "source": [
    "cpdf9 = pd.read_sql(\"SELECT Short_Name, Network, ROUND((Student_Count_Special_Ed/Student_Count_Total * 100),0) AS HS_Percent_Sp_Ed, Student_Count_Total, Graduation_Rate_School, Significantly_Modified FROM cp_tbl WHERE Zip ='60624'\",conn)"
   ]
  },
  {
   "cell_type": "code",
   "execution_count": 98,
   "id": "29ff1d6a-84d9-4ef0-85d2-c43aa434ef89",
   "metadata": {},
   "outputs": [
    {
     "name": "stdout",
     "output_type": "stream",
     "text": [
      "        Short_Name     Network  HS_Percent_Sp_Ed  Student_Count_Total  \\\n",
      "0          RABY HS  Network 15              28.0                339.0   \n",
      "1      MARSHALL HS  Network 15              28.0                253.0   \n",
      "2           ORR HS        AUSL              25.0                235.0   \n",
      "3    LEGAL PREP HS     Charter              21.0                332.0   \n",
      "4   NOBLE - DRW HS     Charter              31.0                340.0   \n",
      "5  WESTINGHOUSE HS  Network 15               7.0               1202.0   \n",
      "\n",
      "   Graduation_Rate_School  Significantly_Modified  \n",
      "0                    73.1                     1.0  \n",
      "1                    51.5                     NaN  \n",
      "2                    38.3                     NaN  \n",
      "3                    59.8                     NaN  \n",
      "4                    71.4                     NaN  \n",
      "5                    98.3                     1.0  \n"
     ]
    }
   ],
   "source": [
    "print(cpdf9)"
   ]
  },
  {
   "cell_type": "code",
   "execution_count": 122,
   "id": "35b7b1b4-7abc-481e-9ef9-367d801a5246",
   "metadata": {},
   "outputs": [
    {
     "data": {
      "text/plain": [
       "<AxesSubplot:title={'center':'High School Graduation Rates in West Garfield Chicago 2018-19'}, xlabel='Graduation Rate', ylabel='West Garfield High Schools'>"
      ]
     },
     "execution_count": 122,
     "metadata": {},
     "output_type": "execute_result"
    },
    {
     "data": {
      "image/png": "[encoded data removed]",
      "text/plain": [
       "<Figure size 432x288 with 1 Axes>"
      ]
     },
     "metadata": {
      "needs_background": "light"
     },
     "output_type": "display_data"
    }
   ],
   "source": [
    "xlab = 'Graduation Rate Per School'\n",
    "ylab = 'West Garfield High Schools'\n",
    "title = 'High School Graduation Rates in West Garfield Chicago 2018-19'\n",
    "\n",
    "plt.xlabel('Graduation Rate')\n",
    "plt.ylabel('West Garfield High Schools')\n",
    "\n",
    "plt.title('High School Graduation Rates in West Garfield Chicago 2018-19')\n",
    "\n",
    "sns.scatterplot(x=\"Graduation_Rate_School\", y=\"Short_Name\", data = cpdf9, hue = \"Network\")\n"
   ]
  },
  {
   "cell_type": "raw",
   "id": "66337fbc-28a1-4625-997d-8bd691af4aa9",
   "metadata": {},
   "source": [
    "The West Garfield neighborhood schools looks quite different from the Southlawndale schools. Westinghouse HS is an outlier in Network 15 with a 98.3% graduation rate. Westinghouse HS has only 7% special education students compared to the other two schools in Network 15 with 28% Special Education Students. "
   ]
  }
 ],
 "metadata": {
  "kernelspec": {
   "display_name": "anaconda-2022.05-py39",
   "language": "python",
   "name": "conda-env-anaconda-2022.05-py39-py"
  },
  "language_info": {
   "codemirror_mode": {
    "name": "ipython",
    "version": 3
   },
   "file_extension": ".py",
   "mimetype": "text/x-python",
   "name": "python",
   "nbconvert_exporter": "python",
   "pygments_lexer": "ipython3",
   "version": "3.9.12"
  }
 },
 "nbformat": 4,
 "nbformat_minor": 5
}
